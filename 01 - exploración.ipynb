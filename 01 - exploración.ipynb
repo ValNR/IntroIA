import pandas as pd
import numpy as np

z = pd.read_csv("train.csv")
display(z)

z = z[['F_EDUCACIONMADRE', 'E_VALORMATRICULAUNIVERSIDAD', 'RENDIMIENTO_GLOBAL']]
z.head()
